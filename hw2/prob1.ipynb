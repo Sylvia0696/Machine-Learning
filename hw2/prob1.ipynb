{
 "cells": [
  {
   "cell_type": "code",
   "execution_count": 6,
   "metadata": {},
   "outputs": [],
   "source": [
    "from scipy.io import loadmat\n",
    "wine = loadmat('wine.mat')\n",
    "data = wine['data']\n",
    "label = wine['labels']\n",
    "testdata = wine['testdata']\n",
    "testlabel = wine['testlabels']"
   ]
  },
  {
   "cell_type": "code",
   "execution_count": 7,
   "metadata": {},
   "outputs": [
    {
     "name": "stdout",
     "output_type": "stream",
     "text": [
      "[ 1.         -0.47687637 -0.47325129 -0.46939025  1.32678097 -0.32362082\n",
      "  0.81431303  1.08979962  0.75105482  0.69463614 -0.70381277 -0.58602832]\n",
      "[6]\n"
     ]
    }
   ],
   "source": [
    "print(data[0])\n",
    "print(label[0])"
   ]
  },
  {
   "cell_type": "code",
   "execution_count": 8,
   "metadata": {},
   "outputs": [
    {
     "data": {
      "text/plain": [
       "3249"
      ]
     },
     "execution_count": 8,
     "metadata": {},
     "output_type": "execute_result"
    }
   ],
   "source": [
    "len(data)"
   ]
  },
  {
   "cell_type": "code",
   "execution_count": 9,
   "metadata": {},
   "outputs": [],
   "source": [
    "import numpy as np   ##科学计算库 \n",
    "import pandas as pd\n",
    "import matplotlib.pyplot as plt  ##绘图库\n",
    "import statsmodels.api as sm   "
   ]
  },
  {
   "cell_type": "code",
   "execution_count": 10,
   "metadata": {},
   "outputs": [],
   "source": [
    "regr = sm.OLS(label,data)\n",
    "res = regr.fit() "
   ]
  },
  {
   "cell_type": "code",
   "execution_count": 11,
   "metadata": {},
   "outputs": [
    {
     "data": {
      "text/plain": [
       "array([ 5.82610034,  0.0685723 , -0.23103551, -0.0273828 ,  0.17082491,\n",
       "       -0.0353694 ,  0.10740169, -0.13434188, -0.12987808,  0.06963982,\n",
       "        0.13476528,  0.32021342])"
      ]
     },
     "execution_count": 11,
     "metadata": {},
     "output_type": "execute_result"
    }
   ],
   "source": [
    "res.params"
   ]
  },
  {
   "cell_type": "code",
   "execution_count": 12,
   "metadata": {},
   "outputs": [],
   "source": [
    "y = np.dot(testdata,res.params)"
   ]
  },
  {
   "cell_type": "code",
   "execution_count": 13,
   "metadata": {},
   "outputs": [
    {
     "data": {
      "text/plain": [
       "(3248, 1)"
      ]
     },
     "execution_count": 13,
     "metadata": {},
     "output_type": "execute_result"
    }
   ],
   "source": [
    "testlabel.shape"
   ]
  },
  {
   "cell_type": "code",
   "execution_count": 14,
   "metadata": {},
   "outputs": [],
   "source": [
    "y.resize(y.shape[0],1)"
   ]
  },
  {
   "cell_type": "code",
   "execution_count": 15,
   "metadata": {},
   "outputs": [
    {
     "data": {
      "text/plain": [
       "(3248, 1)"
      ]
     },
     "execution_count": 15,
     "metadata": {},
     "output_type": "execute_result"
    }
   ],
   "source": [
    "square = (y-testlabel)*(y-testlabel)\n",
    "square.shape"
   ]
  },
  {
   "cell_type": "code",
   "execution_count": 16,
   "metadata": {},
   "outputs": [],
   "source": [
    "squared_loss = np.sum(square,axis = 0)"
   ]
  },
  {
   "cell_type": "code",
   "execution_count": 17,
   "metadata": {},
   "outputs": [
    {
     "name": "stdout",
     "output_type": "stream",
     "text": [
      "1753.2175175369225\n"
     ]
    }
   ],
   "source": [
    "print(squared_loss[0])"
   ]
  },
  {
   "cell_type": "code",
   "execution_count": 18,
   "metadata": {},
   "outputs": [
    {
     "data": {
      "text/plain": [
       "12"
      ]
     },
     "execution_count": 18,
     "metadata": {},
     "output_type": "execute_result"
    }
   ],
   "source": [
    "data.shape[1]"
   ]
  },
  {
   "cell_type": "code",
   "execution_count": 19,
   "metadata": {},
   "outputs": [],
   "source": [
    "new_data = data[:,[0,1,2,3]]"
   ]
  },
  {
   "cell_type": "code",
   "execution_count": 20,
   "metadata": {
    "scrolled": true
   },
   "outputs": [
    {
     "data": {
      "text/plain": [
       "(3249, 4)"
      ]
     },
     "execution_count": 20,
     "metadata": {},
     "output_type": "execute_result"
    }
   ],
   "source": [
    "new_data.shape"
   ]
  },
  {
   "cell_type": "code",
   "execution_count": 21,
   "metadata": {},
   "outputs": [],
   "source": [
    "def ordinary_least_square(label,data):\n",
    "    regr = sm.OLS(label,data) ##OLS\n",
    "    res = regr.fit()   ##outcome\n",
    "    return res.params\n",
    "\n",
    "\n",
    "def squared_loss(testdata,testlabel,params):\n",
    "    y = np.dot(testdata,params)  ##test_data_label\n",
    "    y.resize(y.shape[0],1)\n",
    "    square = (y-testlabel)*(y-testlabel)  \n",
    "    squared_loss = np.sum(square)   ##squared_loss of testdata\n",
    "    return squared_loss"
   ]
  },
  {
   "cell_type": "code",
   "execution_count": 22,
   "metadata": {},
   "outputs": [
    {
     "name": "stdout",
     "output_type": "stream",
     "text": [
      "[0, 1, 2, 3]\n",
      "[0, 1, 2, 4]\n",
      "[0, 1, 2, 7]\n",
      "[0, 1, 2, 8]\n",
      "[0, 1, 2, 11]\n",
      "[0, 2, 3, 11]\n",
      "[0, 2, 4, 11]\n",
      "[0, 2, 8, 11]\n",
      "[0, 2, 10, 11]\n"
     ]
    }
   ],
   "source": [
    "import math\n",
    "lmin = math.inf\n",
    "name = []\n",
    "min_params = []\n",
    "for i in range(1,data.shape[1]):\n",
    "    for j in range(i+1,data.shape[1]):\n",
    "        for k in range(j+1,data.shape[1]):\n",
    "            new_data = data[:,[0,i,j,k]]\n",
    "            params = ordinary_least_square(label,new_data)\n",
    "            squaredloss = squared_loss(new_data,label,params)\n",
    "            #print(squaredloss)\n",
    "            if lmin > squaredloss:\n",
    "                lmin = min(lmin,squaredloss)\n",
    "                name = [0,i,j,k]\n",
    "                print(name)\n",
    "                min_params = params\n",
    "new_testdata = testdata[:,name]\n",
    "test_squareloss = squared_loss(new_testdata,testlabel,min_params)"
   ]
  },
  {
   "cell_type": "code",
   "execution_count": 23,
   "metadata": {},
   "outputs": [
    {
     "name": "stdout",
     "output_type": "stream",
     "text": [
      "[0, 2, 10, 11]\n",
      "1807.6601059716302\n"
     ]
    }
   ],
   "source": [
    "print(name)\n",
    "print(test_squareloss)"
   ]
  },
  {
   "cell_type": "code",
   "execution_count": 24,
   "metadata": {},
   "outputs": [
    {
     "data": {
      "text/plain": [
       "1795.4455371330366"
      ]
     },
     "execution_count": 24,
     "metadata": {},
     "output_type": "execute_result"
    }
   ],
   "source": [
    "temp_data = data[:,[0,2,8,11]]\n",
    "temp_test_data = testdata[:,[0,2,8,11]]\n",
    "temp_params = ordinary_least_square(label,temp_data)\n",
    "a = squared_loss(temp_test_data,testlabel,temp_params)\n",
    "a"
   ]
  },
  {
   "cell_type": "code",
   "execution_count": 25,
   "metadata": {},
   "outputs": [
    {
     "name": "stdout",
     "output_type": "stream",
     "text": [
      "(-0.3755630209692122, 2.5269603965354535e-109)\n"
     ]
    }
   ],
   "source": [
    "cor = pearsonr(testdata[:,2],testdata[:,3])\n",
    "print(cor)"
   ]
  },
  {
   "cell_type": "code",
   "execution_count": 28,
   "metadata": {},
   "outputs": [
    {
     "name": "stdout",
     "output_type": "stream",
     "text": [
      "[[7, -0.4220072736318842, 3, -0.3755630209692122], [5, 0.4071152150059981, 1, 0.29686322762159284], [8, -0.6795934959123543, 4, -0.34626243022889536]]\n"
     ]
    }
   ],
   "source": [
    "from scipy.stats import pearsonr\n",
    "\n",
    "name_value = []\n",
    "for i in range(1,len(name)):\n",
    "    count = 1\n",
    "    nv_list = []\n",
    "    for j in range(1,testdata.shape[1]):\n",
    "        cor = pearsonr(testdata[:,name[i]],testdata[:,j])\n",
    "        if name[i] == j:\n",
    "            continue\n",
    "        elif count == 1:\n",
    "            nv_list.append(j)\n",
    "            nv_list.append(cor[0])\n",
    "            count += 1\n",
    "        elif count == 2:\n",
    "            if abs(cor[0]) > abs(nv_list[1]):\n",
    "                nv_list.insert(0,j)\n",
    "                nv_list.insert(1,cor[0])\n",
    "            else:\n",
    "                nv_list.append(j)\n",
    "                nv_list.append(cor[0])\n",
    "            count += 1\n",
    "        elif count > 2:\n",
    "            if abs(cor[0]) > abs(nv_list[1]):\n",
    "                nv_list.insert(0,j)\n",
    "                nv_list.insert(1,cor[0])\n",
    "                del nv_list[4:]\n",
    "            elif abs(cor[0]) < abs(nv_list[1]) and abs(cor[0]) > abs(nv_list[3]):\n",
    "                nv_list[2] = j\n",
    "                nv_list[3] = cor[0]\n",
    "\n",
    "    name_value.append(nv_list)\n",
    "print(name_value)"
   ]
  },
  {
   "cell_type": "code",
   "execution_count": 34,
   "metadata": {},
   "outputs": [
    {
     "name": "stdout",
     "output_type": "stream",
     "text": [
      "Test risks of the ordinary least squares estimator [0.53978372]\n",
      "Test risks of the sparse linear predictor [0.5565456]\n",
      "Names_ID and value [0, 2, 10, 11] [ 5.82610034 -0.24474264  0.10847122  0.37362602]\n",
      "nameID_value [[7, -0.4220072736318842, 3, -0.3755630209692122], [5, 0.4071152150059981, 1, 0.29686322762159284], [8, -0.6795934959123543, 4, -0.34626243022889536]]\n"
     ]
    }
   ],
   "source": [
    "import numpy as np   ##科学计算库 \n",
    "import pandas as pd\n",
    "import matplotlib.pyplot as plt  ##绘图库\n",
    "import statsmodels.api as sm   ##引入最小二乘法算法\n",
    "from scipy.io import loadmat\n",
    "import math\n",
    "from scipy.stats import pearsonr\n",
    "\n",
    "\n",
    "\n",
    "\n",
    "\n",
    "def ordinary_least_square(label,data):\n",
    "    regr = sm.OLS(label,data) ##OLS\n",
    "    res = regr.fit()   ##outcome\n",
    "    return res.params\n",
    "\n",
    "\n",
    "def squared_loss(testdata,testlabel,params):\n",
    "    y = np.dot(testdata,params)  ##test_data_label\n",
    "    y.resize(y.shape[0],1)\n",
    "    square = (y-testlabel)*(y-testlabel)  \n",
    "    squared_loss = np.sum(square,axis = 0)   ##squared_loss of testdata\n",
    "#     print(squared_loss)\n",
    "    n = testdata.shape[0]\n",
    "    return squared_loss/n\n",
    "\n",
    "\n",
    "def sparse_linear_predictor(data,label,testdata,testlabel):\n",
    "    lmin = math.inf\n",
    "    name = []\n",
    "    min_params = []\n",
    "    for i in range(1,data.shape[1]):\n",
    "        for j in range(i+1,data.shape[1]):\n",
    "            for k in range(j+1,data.shape[1]):\n",
    "                new_data = data[:,[0,i,j,k]]\n",
    "                params = ordinary_least_square(label,new_data)\n",
    "                squaredloss = squared_loss(new_data,label,params)\n",
    "#                 print(squaredloss)\n",
    "                if lmin > squaredloss:\n",
    "                    lmin = min(lmin,squaredloss)\n",
    "                    name = [0,i,j,k]\n",
    "#                     print(name)\n",
    "                    min_params = params\n",
    "    new_testdata = testdata[:,name]\n",
    "    test_squareloss = squared_loss(new_testdata,testlabel,min_params)\n",
    "    return name, min_params, test_squareloss\n",
    "\n",
    "\n",
    "def pearson_correlation(testdata,name):\n",
    "    name_value = []\n",
    "    for i in range(1,len(name)):\n",
    "        count = 1\n",
    "        nv_list = []\n",
    "        for j in range(1,testdata.shape[1]):\n",
    "            cor = pearsonr(testdata[:,name[i]],testdata[:,j])\n",
    "            if name[i] == j:\n",
    "                continue\n",
    "            elif count == 1:\n",
    "                nv_list.append(j)\n",
    "                nv_list.append(cor[0])\n",
    "                count += 1\n",
    "            elif count == 2:\n",
    "                if abs(cor[0]) > abs(nv_list[1]):\n",
    "                    nv_list.insert(0,j)\n",
    "                    nv_list.insert(1,cor[0])\n",
    "                else:\n",
    "                    nv_list.append(j)\n",
    "                    nv_list.append(cor[0])\n",
    "                count += 1\n",
    "            elif count > 2:\n",
    "                if abs(cor[0]) > abs(nv_list[1]):\n",
    "                    nv_list.insert(0,j)\n",
    "                    nv_list.insert(1,cor[0])\n",
    "                    del nv_list[4:]\n",
    "                elif abs(cor[0]) < abs(nv_list[1]) and abs(cor[0]) > abs(nv_list[3]):\n",
    "                    nv_list[2] = j\n",
    "                    nv_list[3] = cor[0]\n",
    "\n",
    "        name_value.append(nv_list)\n",
    "    return name_value\n",
    "\n",
    "\n",
    "\n",
    "if __name__ == '__main__':\n",
    "    wine = loadmat('wine.mat')\n",
    "    data = wine['data']\n",
    "    label = wine['labels']\n",
    "    testdata = wine['testdata']\n",
    "    testlabel = wine['testlabels']\n",
    "\n",
    "    params = ordinary_least_square(label,data)\n",
    "    squareloss = squared_loss(testdata,testlabel,params)\n",
    "    print(\"Test risks of the ordinary least squares estimator\", squareloss)\n",
    "\n",
    "    res = sparse_linear_predictor(data,label,testdata,testlabel)\n",
    "    print(\"Test risks of the sparse linear predictor\", res[2])\n",
    "    print(\"Names_ID and value\",res[0],res[1])\n",
    "\n",
    "    name_value = pearson_correlation(testdata,res[0])\n",
    "    print(\"nameID_value\",name_value)"
   ]
  },
  {
   "cell_type": "code",
   "execution_count": 1,
   "metadata": {},
   "outputs": [
    {
     "name": "stdout",
     "output_type": "stream",
     "text": [
      "Test risks of the ordinary least squares estimator [0.53978372]\n",
      "Test risks of the sparse linear predictor [0.5565456]\n",
      "Names_ID and value [0, 2, 10, 11] [ 5.82610034 -0.24474264  0.10847122  0.37362602]\n",
      "nameID_value [[7, -0.4220072736318842, 3, -0.3755630209692122], [5, 0.4071152150059981, 1, 0.29686322762159284], [8, -0.6795934959123543, 4, -0.34626243022889536]]\n"
     ]
    }
   ],
   "source": [
    "import numpy as np   ##科学计算库 \n",
    "import pandas as pd\n",
    "import matplotlib.pyplot as plt  ##绘图库\n",
    "import statsmodels.api as sm   ##引入最小二乘法算法\n",
    "from scipy.io import loadmat\n",
    "import math\n",
    "from scipy.stats import pearsonr\n",
    "\n",
    "\n",
    "\n",
    "\n",
    "\n",
    "def ordinary_least_square(label,data):\n",
    "    regr = sm.OLS(label,data) ##OLS\n",
    "    res = regr.fit()   ##outcome\n",
    "    return res.params\n",
    "\n",
    "\n",
    "def squared_loss(testdata,testlabel,params):\n",
    "    y = np.dot(testdata,params)  ##test_data_label\n",
    "    y.resize(y.shape[0],1)\n",
    "    square = (y-testlabel)*(y-testlabel)  \n",
    "    squared_loss = np.sum(square,axis = 0)   ##squared_loss of testdata\n",
    "#     print(squared_loss)\n",
    "    n = testdata.shape[0]\n",
    "    return squared_loss/n\n",
    "\n",
    "\n",
    "def sparse_linear_predictor(data,label,testdata,testlabel):\n",
    "    lmin = math.inf\n",
    "    name = []\n",
    "    min_params = []\n",
    "    for i in range(1,data.shape[1]):\n",
    "        for j in range(i+1,data.shape[1]):\n",
    "            for k in range(j+1,data.shape[1]):\n",
    "                new_data = data[:,[0,i,j,k]]\n",
    "                params = ordinary_least_square(label,new_data)\n",
    "                squaredloss = squared_loss(new_data,label,params)\n",
    "#                 print(squaredloss)\n",
    "                if lmin > squaredloss:\n",
    "                    lmin = min(lmin,squaredloss)\n",
    "                    name = [0,i,j,k]\n",
    "#                     print(name)\n",
    "                    min_params = params\n",
    "    new_testdata = testdata[:,name]\n",
    "    test_squareloss = squared_loss(new_testdata,testlabel,min_params)\n",
    "    return name, min_params, test_squareloss\n",
    "\n",
    "\n",
    "def pearson_correlation(testdata,name):\n",
    "    name_value = []\n",
    "    for i in range(1,len(name)):\n",
    "        count = 1\n",
    "        nv_list = []\n",
    "        for j in range(1,testdata.shape[1]):\n",
    "            cor = pearsonr(testdata[:,name[i]],testdata[:,j])\n",
    "            if name[i] == j:\n",
    "                continue\n",
    "            elif count == 1:\n",
    "                nv_list.append(j)\n",
    "                nv_list.append(cor[0])\n",
    "                count += 1\n",
    "            elif count == 2:\n",
    "                if abs(cor[0]) > abs(nv_list[1]):\n",
    "                    nv_list.insert(0,j)\n",
    "                    nv_list.insert(1,cor[0])\n",
    "                else:\n",
    "                    nv_list.append(j)\n",
    "                    nv_list.append(cor[0])\n",
    "                count += 1\n",
    "            elif count > 2:\n",
    "                if abs(cor[0]) > abs(nv_list[1]):\n",
    "                    nv_list.insert(0,j)\n",
    "                    nv_list.insert(1,cor[0])\n",
    "                    del nv_list[4:]\n",
    "                elif abs(cor[0]) < abs(nv_list[1]) and abs(cor[0]) > abs(nv_list[3]):\n",
    "                    nv_list[2] = j\n",
    "                    nv_list[3] = cor[0]\n",
    "\n",
    "        name_value.append(nv_list)\n",
    "    return name_value\n",
    "\n",
    "\n",
    "\n",
    "if __name__ == '__main__':\n",
    "    wine = loadmat('wine.mat')\n",
    "    data = wine['data']\n",
    "    label = wine['labels']\n",
    "    testdata = wine['testdata']\n",
    "    testlabel = wine['testlabels']\n",
    "\n",
    "    params = ordinary_least_square(label,data)\n",
    "    squareloss = squared_loss(testdata,testlabel,params)\n",
    "    print(\"Test risks of the ordinary least squares estimator\", squareloss)\n",
    "\n",
    "    res = sparse_linear_predictor(data,label,testdata,testlabel)\n",
    "    print(\"Test risks of the sparse linear predictor\", res[2])\n",
    "    print(\"Names_ID and value\",res[0],res[1])\n",
    "\n",
    "    name_value = pearson_correlation(testdata,res[0])\n",
    "    print(\"nameID_value\",name_value)"
   ]
  },
  {
   "cell_type": "code",
   "execution_count": 2,
   "metadata": {},
   "outputs": [
    {
     "name": "stdout",
     "output_type": "stream",
     "text": [
      "Test risks of the ordinary least squares estimator [0.53978372]\n",
      "Test risks of the sparse linear predictor [0.5565456]\n",
      "Names_ID and value [0, 2, 10, 11] [ 5.82610034 -0.24474264  0.10847122  0.37362602]\n",
      "nameID_value [[7, -0.4220072736318842, 3, -0.3755630209692122], [5, 0.4071152150059981, 1, 0.29686322762159284], [8, -0.6795934959123543, 4, -0.34626243022889536]]\n"
     ]
    }
   ],
   "source": [
    "import numpy as np   ##科学计算库 \n",
    "import pandas as pd\n",
    "import matplotlib.pyplot as plt  ##绘图库\n",
    "import statsmodels.api as sm   ##引入最小二乘法算法\n",
    "from scipy.io import loadmat\n",
    "import math\n",
    "from scipy.stats import pearsonr\n",
    "\n",
    "\n",
    "\n",
    "\n",
    "\n",
    "def ordinary_least_square(label,data):\n",
    "    regr = sm.OLS(label,data) ##OLS\n",
    "    res = regr.fit()   ##outcome\n",
    "    return res.params\n",
    "\n",
    "\n",
    "def squared_loss(testdata,testlabel,params):\n",
    "    y = np.dot(testdata,params)  ##test_data_label\n",
    "    y.resize(y.shape[0],1)\n",
    "    square = (y-testlabel)*(y-testlabel)  \n",
    "    squared_loss = np.sum(square,axis = 0)   ##squared_loss of testdata\n",
    "#     print(squared_loss)\n",
    "    n = testdata.shape[0]\n",
    "    return squared_loss/n\n",
    "\n",
    "\n",
    "def sparse_linear_predictor(data,label,testdata,testlabel):\n",
    "    lmin = math.inf\n",
    "    name = []\n",
    "    min_params = []\n",
    "    for i in range(1,data.shape[1]):\n",
    "        for j in range(i+1,data.shape[1]):\n",
    "            for k in range(j+1,data.shape[1]):\n",
    "                new_data = data[:,[0,i,j,k]]\n",
    "                params = ordinary_least_square(label,new_data)\n",
    "                squaredloss = squared_loss(new_data,label,params)\n",
    "#                 print(squaredloss)\n",
    "                if lmin > squaredloss:\n",
    "                    lmin = min(lmin,squaredloss)\n",
    "                    name = [0,i,j,k]\n",
    "#                     print(name)\n",
    "                    min_params = params\n",
    "    new_testdata = testdata[:,name]\n",
    "    test_squareloss = squared_loss(new_testdata,testlabel,min_params)\n",
    "    return name, min_params, test_squareloss\n",
    "\n",
    "\n",
    "def pearson_correlation(testdata,name):\n",
    "    name_value = []\n",
    "    for i in range(1,len(name)):\n",
    "        count = 1\n",
    "        nv_list = []\n",
    "        for j in range(1,testdata.shape[1]):\n",
    "            cor = pearsonr(testdata[:,name[i]],testdata[:,j])\n",
    "            if name[i] == j:\n",
    "                continue\n",
    "            elif count == 1:\n",
    "                nv_list.append(j)\n",
    "                nv_list.append(cor[0])\n",
    "                count += 1\n",
    "            elif count == 2:\n",
    "                if abs(cor[0]) > abs(nv_list[1]):\n",
    "                    nv_list.insert(0,j)\n",
    "                    nv_list.insert(1,cor[0])\n",
    "                else:\n",
    "                    nv_list.append(j)\n",
    "                    nv_list.append(cor[0])\n",
    "                count += 1\n",
    "            elif count > 2:\n",
    "                if abs(cor[0]) > abs(nv_list[1]):\n",
    "                    nv_list.insert(0,j)\n",
    "                    nv_list.insert(1,cor[0])\n",
    "                    del nv_list[4:]\n",
    "                elif abs(cor[0]) < abs(nv_list[1]) and abs(cor[0]) > abs(nv_list[3]):\n",
    "                    nv_list[2] = j\n",
    "                    nv_list[3] = cor[0]\n",
    "\n",
    "        name_value.append(nv_list)\n",
    "    return name_value\n",
    "\n",
    "\n",
    "\n",
    "if __name__ == '__main__':\n",
    "    wine = loadmat('wine.mat')\n",
    "    data = wine['data']\n",
    "    label = wine['labels']\n",
    "    testdata = wine['testdata']\n",
    "    testlabel = wine['testlabels']\n",
    "\n",
    "    params = ordinary_least_square(label,data)\n",
    "    squareloss = squared_loss(testdata,testlabel,params)\n",
    "    print(\"Test risks of the ordinary least squares estimator\", squareloss)\n",
    "\n",
    "    res = sparse_linear_predictor(data,label,testdata,testlabel)\n",
    "    print(\"Test risks of the sparse linear predictor\", res[2])\n",
    "    print(\"Names_ID and value\",res[0],res[1])\n",
    "\n",
    "    name_value = pearson_correlation(testdata,res[0])\n",
    "    print(\"nameID_value\",name_value)"
   ]
  },
  {
   "cell_type": "code",
   "execution_count": null,
   "metadata": {},
   "outputs": [],
   "source": []
  }
 ],
 "metadata": {
  "kernelspec": {
   "display_name": "Python 3",
   "language": "python",
   "name": "python3"
  },
  "language_info": {
   "codemirror_mode": {
    "name": "ipython",
    "version": 3
   },
   "file_extension": ".py",
   "mimetype": "text/x-python",
   "name": "python",
   "nbconvert_exporter": "python",
   "pygments_lexer": "ipython3",
   "version": "3.6.5"
  }
 },
 "nbformat": 4,
 "nbformat_minor": 2
}
