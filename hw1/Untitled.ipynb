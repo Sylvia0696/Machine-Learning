{
 "cells": [
  {
   "cell_type": "code",
   "execution_count": null,
   "metadata": {},
   "outputs": [],
   "source": [
    "from scipy.io import loadmat\n",
    "ocr = loadmat('ocr.mat')"
   ]
  },
  {
   "cell_type": "code",
   "execution_count": null,
   "metadata": {},
   "outputs": [],
   "source": [
    "print(type(ocr))"
   ]
  },
  {
   "cell_type": "code",
   "execution_count": null,
   "metadata": {
    "scrolled": true
   },
   "outputs": [],
   "source": [
    "print(ocr)"
   ]
  },
  {
   "cell_type": "code",
   "execution_count": null,
   "metadata": {},
   "outputs": [],
   "source": [
    "print(type(ocr['data']))"
   ]
  },
  {
   "cell_type": "code",
   "execution_count": null,
   "metadata": {},
   "outputs": [],
   "source": [
    "print(len(ocr['data']))"
   ]
  },
  {
   "cell_type": "code",
   "execution_count": null,
   "metadata": {},
   "outputs": [],
   "source": [
    "print(len(ocr['data'][0]))"
   ]
  },
  {
   "cell_type": "code",
   "execution_count": null,
   "metadata": {
    "scrolled": true
   },
   "outputs": [],
   "source": [
    "print(ocr['data'][0])"
   ]
  },
  {
   "cell_type": "code",
   "execution_count": null,
   "metadata": {},
   "outputs": [],
   "source": [
    "print(ocr['data'].shape)"
   ]
  },
  {
   "cell_type": "code",
   "execution_count": null,
   "metadata": {},
   "outputs": [],
   "source": [
    "print(ocr['data'].size)"
   ]
  },
  {
   "cell_type": "code",
   "execution_count": null,
   "metadata": {},
   "outputs": [],
   "source": [
    "print(ocr['data'].dtype)"
   ]
  },
  {
   "cell_type": "code",
   "execution_count": null,
   "metadata": {},
   "outputs": [],
   "source": [
    "print(ocr['labels'][0])"
   ]
  },
  {
   "cell_type": "code",
   "execution_count": null,
   "metadata": {},
   "outputs": [],
   "source": [
    "import numpy as np"
   ]
  },
  {
   "cell_type": "raw",
   "metadata": {},
   "source": [
    "a"
   ]
  },
  {
   "cell_type": "code",
   "execution_count": null,
   "metadata": {},
   "outputs": [],
   "source": [
    "a.T.T"
   ]
  },
  {
   "cell_type": "code",
   "execution_count": null,
   "metadata": {},
   "outputs": [],
   "source": [
    "a = np.array([[1,2]])\n",
    "a.T"
   ]
  },
  {
   "cell_type": "code",
   "execution_count": null,
   "metadata": {
    "scrolled": true
   },
   "outputs": [],
   "source": [
    "ocr['data'][0].T"
   ]
  },
  {
   "cell_type": "code",
   "execution_count": null,
   "metadata": {},
   "outputs": [],
   "source": [
    "np.dot(ocr['data'][0],ocr['data'][0].T)"
   ]
  },
  {
   "cell_type": "code",
   "execution_count": 33,
   "metadata": {},
   "outputs": [],
   "source": [
    "from __future__ import print_function\n",
    "from scipy.io import loadmat\n",
    "from random import sample\n",
    "import numpy as np\n",
    "\n",
    "def nn(X,Y,test):\n",
    "    \n",
    "    x2 = np.square(X).sum(axis = 1)                                     \n",
    "    xt = np.dot(test,X.T)\n",
    "    t2 = np.transpose(np.square(test).sum(axis = 1)[np.newaxis]) \n",
    "    dist = x2 - 2*xt + t2\n",
    "    preds = Y[np.argmin(dist, axis = 1)]\n",
    "    return preds\n",
    "\n",
    "def find():\n",
    "    ocr = loadmat('ocr.mat')\n",
    "    num_trials = 10\n",
    "    for n in [ 1000, 2000, 4000, 8000 ]:\n",
    "        test_err = np.zeros(num_trials)\n",
    "        for trial in range(num_trials):\n",
    "            sel = sample(range(len(ocr['data'].astype('float'))),n)\n",
    "            preds = nn(ocr['data'].astype('float')[sel], ocr['labels'][sel], ocr['testdata'].astype('float'))\n",
    "            test_err[trial] = np.mean(preds != ocr['testlabels'])\n",
    "        print(\"%d\\t%g\\t%g\" % (n,np.mean(test_err),np.std(test_err)))"
   ]
  },
  {
   "cell_type": "code",
   "execution_count": 34,
   "metadata": {},
   "outputs": [
    {
     "name": "stdout",
     "output_type": "stream",
     "text": [
      "1000\t0.11265\t0.00413358\n",
      "2000\t0.08839\t0.00215009\n",
      "4000\t0.06874\t0.00292411\n",
      "8000\t0.05622\t0.000837616\n"
     ]
    }
   ],
   "source": [
    "find()"
   ]
  },
  {
   "cell_type": "code",
   "execution_count": 31,
   "metadata": {},
   "outputs": [],
   "source": [
    "from __future__ import print_function\n",
    "from scipy.io import loadmat\n",
    "from random import sample\n",
    "import numpy as np\n",
    "\n",
    "def nn(X,Y,test):\n",
    "                                         \n",
    "    distance1 = np.transpose(np.sum(test*test, axis = 1)[np.newaxis])\n",
    "    distance2 = np.dot(test,X.T)\n",
    "    distance3 = np.sum(X*X, axis = 1)\n",
    "    distance = distance1 - 2*distance2 + distance3\n",
    "    preds = Y[np.argmin(distance, axis = 1)]\n",
    "    return preds\n",
    "\n",
    "def find():\n",
    "    ocr = loadmat('ocr.mat')\n",
    "    num_trials = 10\n",
    "    for n in [ 1000, 2000, 4000, 8000 ]:\n",
    "        test_err = np.zeros(num_trials)\n",
    "        for trial in range(num_trials):\n",
    "            sel = sample(range(len(ocr['data'].astype('float'))),n)\n",
    "            preds = nn(ocr['data'].astype('float')[sel], ocr['labels'][sel], ocr['testdata'].astype('float'))\n",
    "            test_err[trial] = np.mean(preds != ocr['testlabels'])\n",
    "        print(\"%d\\t%g\\t%g\" % (n,np.mean(test_err),np.std(test_err)))"
   ]
  },
  {
   "cell_type": "code",
   "execution_count": 32,
   "metadata": {},
   "outputs": [
    {
     "name": "stdout",
     "output_type": "stream",
     "text": [
      "1000\t0.1166\t0.00419714\n",
      "2000\t0.09163\t0.0028164\n",
      "4000\t0.06899\t0.00250178\n",
      "8000\t0.05672\t0.00155035\n"
     ]
    }
   ],
   "source": [
    "find()"
   ]
  },
  {
   "cell_type": "code",
   "execution_count": 1,
   "metadata": {},
   "outputs": [],
   "source": [
    "from scipy.io import loadmat\n",
    "import numpy as np\n",
    "\n",
    "    # 20-way classification problem\n",
    "news = loadmat('news.mat')\n",
    "data = news['data']\n",
    "labels = news['labels'][:,0]"
   ]
  },
  {
   "cell_type": "code",
   "execution_count": 27,
   "metadata": {
    "scrolled": true
   },
   "outputs": [
    {
     "name": "stdout",
     "output_type": "stream",
     "text": [
      "  (0, 11)\t1.0\n",
      "  (0, 22)\t1.0\n",
      "  (0, 24)\t1.0\n",
      "  (0, 26)\t1.0\n",
      "  (0, 28)\t1.0\n",
      "  (0, 29)\t1.0\n",
      "  (0, 30)\t1.0\n",
      "  (0, 32)\t1.0\n",
      "  (0, 41)\t1.0\n",
      "  (0, 43)\t1.0\n",
      "  (0, 50)\t1.0\n",
      "  (0, 51)\t1.0\n",
      "  (0, 59)\t1.0\n",
      "  (0, 66)\t1.0\n",
      "  (0, 71)\t1.0\n",
      "  (0, 75)\t1.0\n",
      "  (0, 79)\t1.0\n",
      "  (0, 82)\t1.0\n",
      "  (0, 103)\t1.0\n",
      "  (0, 138)\t1.0\n",
      "  (0, 141)\t1.0\n",
      "  (0, 143)\t1.0\n",
      "  (0, 232)\t1.0\n",
      "  (0, 250)\t1.0\n",
      "  (0, 276)\t1.0\n",
      "  :\t:\n",
      "  (0, 1352)\t1.0\n",
      "  (0, 1365)\t1.0\n",
      "  (0, 1416)\t1.0\n",
      "  (0, 1453)\t1.0\n",
      "  (0, 1480)\t1.0\n",
      "  (0, 1481)\t1.0\n",
      "  (0, 1544)\t1.0\n",
      "  (0, 1742)\t1.0\n",
      "  (0, 1812)\t1.0\n",
      "  (0, 1953)\t1.0\n",
      "  (0, 2211)\t1.0\n",
      "  (0, 2223)\t1.0\n",
      "  (0, 2248)\t1.0\n",
      "  (0, 2249)\t1.0\n",
      "  (0, 2250)\t1.0\n",
      "  (0, 2251)\t1.0\n",
      "  (0, 2252)\t1.0\n",
      "  (0, 2253)\t1.0\n",
      "  (0, 2254)\t1.0\n",
      "  (0, 2255)\t1.0\n",
      "  (0, 2256)\t1.0\n",
      "  (0, 2257)\t1.0\n",
      "  (0, 2258)\t1.0\n",
      "  (0, 2259)\t1.0\n",
      "  (0, 2260)\t1.0\n"
     ]
    }
   ],
   "source": [
    "print(data[35])"
   ]
  },
  {
   "cell_type": "code",
   "execution_count": 2,
   "metadata": {},
   "outputs": [
    {
     "name": "stdout",
     "output_type": "stream",
     "text": [
      "11269\n"
     ]
    }
   ],
   "source": [
    "print(len(labels))"
   ]
  },
  {
   "cell_type": "code",
   "execution_count": 4,
   "metadata": {},
   "outputs": [],
   "source": [
    "list_x = []\n",
    "for i in range(1,21):\n",
    "    for idx, elem in enumerate(labels):\n",
    "        if elem == i:\n",
    "            list_x.append(data[idx,:])"
   ]
  },
  {
   "cell_type": "code",
   "execution_count": 14,
   "metadata": {},
   "outputs": [],
   "source": [
    "sp_list = []   \n",
    "for i in range(1,21):\n",
    "    idx = [idx for idx, e in enumerate(labels) if e==i]\n",
    "    sp_list.append(data[idx,:])"
   ]
  },
  {
   "cell_type": "code",
   "execution_count": 15,
   "metadata": {},
   "outputs": [
    {
     "data": {
      "text/plain": [
       "(11269, 61188)"
      ]
     },
     "execution_count": 15,
     "metadata": {},
     "output_type": "execute_result"
    }
   ],
   "source": [
    "data.shape"
   ]
  },
  {
   "cell_type": "code",
   "execution_count": 16,
   "metadata": {},
   "outputs": [
    {
     "name": "stdout",
     "output_type": "stream",
     "text": [
      "<class 'scipy.sparse.csc.csc_matrix'>\n"
     ]
    }
   ],
   "source": [
    "print(type(sp_list[0]))"
   ]
  },
  {
   "cell_type": "code",
   "execution_count": 17,
   "metadata": {},
   "outputs": [],
   "source": [
    "darray = sp_list[0].toarray()"
   ]
  },
  {
   "cell_type": "code",
   "execution_count": 18,
   "metadata": {},
   "outputs": [
    {
     "name": "stdout",
     "output_type": "stream",
     "text": [
      "<class 'numpy.ndarray'>\n"
     ]
    }
   ],
   "source": [
    "print(type(darray))"
   ]
  },
  {
   "cell_type": "code",
   "execution_count": 20,
   "metadata": {
    "scrolled": true
   },
   "outputs": [
    {
     "name": "stdout",
     "output_type": "stream",
     "text": [
      "[[1. 1. 1. ... 0. 0. 0.]\n",
      " [0. 0. 0. ... 0. 0. 0.]\n",
      " [0. 0. 0. ... 0. 0. 0.]\n",
      " ...\n",
      " [0. 0. 0. ... 0. 0. 0.]\n",
      " [0. 0. 0. ... 0. 0. 0.]\n",
      " [0. 0. 0. ... 0. 0. 0.]]\n"
     ]
    }
   ],
   "source": [
    "print(darray)"
   ]
  },
  {
   "cell_type": "code",
   "execution_count": 2,
   "metadata": {
    "scrolled": false
   },
   "outputs": [
    {
     "name": "stdout",
     "output_type": "stream",
     "text": [
      "20 classes: training error rate: 0.216257\n",
      "20 classes: test error rate: 0.376016\n"
     ]
    },
    {
     "ename": "IndexError",
     "evalue": "invalid index shape",
     "output_type": "error",
     "traceback": [
      "\u001b[0;31m---------------------------------------------------------------------------\u001b[0m",
      "\u001b[0;31mIndexError\u001b[0m                                Traceback (most recent call last)",
      "\u001b[0;32m<ipython-input-2-94267d22d50a>\u001b[0m in \u001b[0;36m<module>\u001b[0;34m()\u001b[0m\n\u001b[1;32m     67\u001b[0m \u001b[0;34m\u001b[0m\u001b[0m\n\u001b[1;32m     68\u001b[0m     \u001b[0mindices\u001b[0m \u001b[0;34m=\u001b[0m \u001b[0;34m(\u001b[0m\u001b[0mlabels\u001b[0m\u001b[0;34m==\u001b[0m\u001b[0;36m1\u001b[0m\u001b[0;34m)\u001b[0m \u001b[0;34m|\u001b[0m \u001b[0;34m(\u001b[0m\u001b[0mlabels\u001b[0m\u001b[0;34m==\u001b[0m\u001b[0;36m16\u001b[0m\u001b[0;34m)\u001b[0m \u001b[0;34m|\u001b[0m \u001b[0;34m(\u001b[0m\u001b[0mlabels\u001b[0m\u001b[0;34m==\u001b[0m\u001b[0;36m20\u001b[0m\u001b[0;34m)\u001b[0m \u001b[0;34m|\u001b[0m \u001b[0;34m(\u001b[0m\u001b[0mlabels\u001b[0m\u001b[0;34m==\u001b[0m\u001b[0;36m17\u001b[0m\u001b[0;34m)\u001b[0m \u001b[0;34m|\u001b[0m \u001b[0;34m(\u001b[0m\u001b[0mlabels\u001b[0m\u001b[0;34m==\u001b[0m\u001b[0;36m18\u001b[0m\u001b[0;34m)\u001b[0m \u001b[0;34m|\u001b[0m \u001b[0;34m(\u001b[0m\u001b[0mlabels\u001b[0m\u001b[0;34m==\u001b[0m\u001b[0;36m19\u001b[0m\u001b[0;34m)\u001b[0m\u001b[0;34m\u001b[0m\u001b[0m\n\u001b[0;32m---> 69\u001b[0;31m     \u001b[0mdata2\u001b[0m \u001b[0;34m=\u001b[0m \u001b[0mdata\u001b[0m\u001b[0;34m[\u001b[0m\u001b[0mindices\u001b[0m\u001b[0;34m,\u001b[0m\u001b[0;34m:\u001b[0m\u001b[0;34m]\u001b[0m\u001b[0;34m\u001b[0m\u001b[0m\n\u001b[0m\u001b[1;32m     70\u001b[0m     \u001b[0mlabels2\u001b[0m \u001b[0;34m=\u001b[0m \u001b[0mlabels\u001b[0m\u001b[0;34m[\u001b[0m\u001b[0mindices\u001b[0m\u001b[0;34m]\u001b[0m\u001b[0;34m\u001b[0m\u001b[0m\n\u001b[1;32m     71\u001b[0m     \u001b[0mlabels2\u001b[0m\u001b[0;34m[\u001b[0m\u001b[0;34m(\u001b[0m\u001b[0mlabels2\u001b[0m\u001b[0;34m==\u001b[0m\u001b[0;36m1\u001b[0m\u001b[0;34m)\u001b[0m \u001b[0;34m|\u001b[0m \u001b[0;34m(\u001b[0m\u001b[0mlabels2\u001b[0m\u001b[0;34m==\u001b[0m\u001b[0;36m16\u001b[0m\u001b[0;34m)\u001b[0m \u001b[0;34m|\u001b[0m \u001b[0;34m(\u001b[0m\u001b[0mlabels2\u001b[0m\u001b[0;34m==\u001b[0m\u001b[0;36m20\u001b[0m\u001b[0;34m)\u001b[0m\u001b[0;34m]\u001b[0m \u001b[0;34m=\u001b[0m \u001b[0;36m0\u001b[0m\u001b[0;34m\u001b[0m\u001b[0m\n",
      "\u001b[0;32m/anaconda3/lib/python3.6/site-packages/scipy/sparse/csc.py\u001b[0m in \u001b[0;36m__getitem__\u001b[0;34m(self, key)\u001b[0m\n\u001b[1;32m    161\u001b[0m         \u001b[0;31m# Use CSR to implement fancy indexing.\u001b[0m\u001b[0;34m\u001b[0m\u001b[0;34m\u001b[0m\u001b[0m\n\u001b[1;32m    162\u001b[0m \u001b[0;34m\u001b[0m\u001b[0m\n\u001b[0;32m--> 163\u001b[0;31m         \u001b[0mrow\u001b[0m\u001b[0;34m,\u001b[0m \u001b[0mcol\u001b[0m \u001b[0;34m=\u001b[0m \u001b[0mself\u001b[0m\u001b[0;34m.\u001b[0m\u001b[0m_unpack_index\u001b[0m\u001b[0;34m(\u001b[0m\u001b[0mkey\u001b[0m\u001b[0;34m)\u001b[0m\u001b[0;34m\u001b[0m\u001b[0m\n\u001b[0m\u001b[1;32m    164\u001b[0m         \u001b[0;31m# Things that return submatrices. row or col is a int or slice.\u001b[0m\u001b[0;34m\u001b[0m\u001b[0;34m\u001b[0m\u001b[0m\n\u001b[1;32m    165\u001b[0m         if (isinstance(row, slice) or isinstance(col, slice) or\n",
      "\u001b[0;32m/anaconda3/lib/python3.6/site-packages/scipy/sparse/sputils.py\u001b[0m in \u001b[0;36m_unpack_index\u001b[0;34m(self, index)\u001b[0m\n\u001b[1;32m    378\u001b[0m \u001b[0;34m\u001b[0m\u001b[0m\n\u001b[1;32m    379\u001b[0m         \u001b[0;31m# Next, check for validity, or transform the index as needed.\u001b[0m\u001b[0;34m\u001b[0m\u001b[0;34m\u001b[0m\u001b[0m\n\u001b[0;32m--> 380\u001b[0;31m         \u001b[0mrow\u001b[0m\u001b[0;34m,\u001b[0m \u001b[0mcol\u001b[0m \u001b[0;34m=\u001b[0m \u001b[0mself\u001b[0m\u001b[0;34m.\u001b[0m\u001b[0m_check_boolean\u001b[0m\u001b[0;34m(\u001b[0m\u001b[0mrow\u001b[0m\u001b[0;34m,\u001b[0m \u001b[0mcol\u001b[0m\u001b[0;34m)\u001b[0m\u001b[0;34m\u001b[0m\u001b[0m\n\u001b[0m\u001b[1;32m    381\u001b[0m         \u001b[0;32mreturn\u001b[0m \u001b[0mrow\u001b[0m\u001b[0;34m,\u001b[0m \u001b[0mcol\u001b[0m\u001b[0;34m\u001b[0m\u001b[0m\n\u001b[1;32m    382\u001b[0m \u001b[0;34m\u001b[0m\u001b[0m\n",
      "\u001b[0;32m/anaconda3/lib/python3.6/site-packages/scipy/sparse/sputils.py\u001b[0m in \u001b[0;36m_check_boolean\u001b[0;34m(self, row, col)\u001b[0m\n\u001b[1;32m    429\u001b[0m                 \"are equal shapes.\")\n\u001b[1;32m    430\u001b[0m         \u001b[0;32mif\u001b[0m \u001b[0misinstance\u001b[0m\u001b[0;34m(\u001b[0m\u001b[0mrow\u001b[0m\u001b[0;34m,\u001b[0m \u001b[0mnp\u001b[0m\u001b[0;34m.\u001b[0m\u001b[0mndarray\u001b[0m\u001b[0;34m)\u001b[0m \u001b[0;32mand\u001b[0m \u001b[0mrow\u001b[0m\u001b[0;34m.\u001b[0m\u001b[0mdtype\u001b[0m\u001b[0;34m.\u001b[0m\u001b[0mkind\u001b[0m \u001b[0;34m==\u001b[0m \u001b[0;34m'b'\u001b[0m\u001b[0;34m:\u001b[0m\u001b[0;34m\u001b[0m\u001b[0m\n\u001b[0;32m--> 431\u001b[0;31m             \u001b[0mrow\u001b[0m \u001b[0;34m=\u001b[0m \u001b[0mself\u001b[0m\u001b[0;34m.\u001b[0m\u001b[0m_boolean_index_to_array\u001b[0m\u001b[0;34m(\u001b[0m\u001b[0mrow\u001b[0m\u001b[0;34m)\u001b[0m\u001b[0;34m\u001b[0m\u001b[0m\n\u001b[0m\u001b[1;32m    432\u001b[0m         \u001b[0;32mif\u001b[0m \u001b[0misinstance\u001b[0m\u001b[0;34m(\u001b[0m\u001b[0mcol\u001b[0m\u001b[0;34m,\u001b[0m \u001b[0mnp\u001b[0m\u001b[0;34m.\u001b[0m\u001b[0mndarray\u001b[0m\u001b[0;34m)\u001b[0m \u001b[0;32mand\u001b[0m \u001b[0mcol\u001b[0m\u001b[0;34m.\u001b[0m\u001b[0mdtype\u001b[0m\u001b[0;34m.\u001b[0m\u001b[0mkind\u001b[0m \u001b[0;34m==\u001b[0m \u001b[0;34m'b'\u001b[0m\u001b[0;34m:\u001b[0m\u001b[0;34m\u001b[0m\u001b[0m\n\u001b[1;32m    433\u001b[0m             \u001b[0mcol\u001b[0m \u001b[0;34m=\u001b[0m \u001b[0mself\u001b[0m\u001b[0;34m.\u001b[0m\u001b[0m_boolean_index_to_array\u001b[0m\u001b[0;34m(\u001b[0m\u001b[0mcol\u001b[0m\u001b[0;34m)\u001b[0m\u001b[0;34m\u001b[0m\u001b[0m\n",
      "\u001b[0;32m/anaconda3/lib/python3.6/site-packages/scipy/sparse/sputils.py\u001b[0m in \u001b[0;36m_boolean_index_to_array\u001b[0;34m(self, i)\u001b[0m\n\u001b[1;32m    436\u001b[0m     \u001b[0;32mdef\u001b[0m \u001b[0m_boolean_index_to_array\u001b[0m\u001b[0;34m(\u001b[0m\u001b[0mself\u001b[0m\u001b[0;34m,\u001b[0m \u001b[0mi\u001b[0m\u001b[0;34m)\u001b[0m\u001b[0;34m:\u001b[0m\u001b[0;34m\u001b[0m\u001b[0m\n\u001b[1;32m    437\u001b[0m         \u001b[0;32mif\u001b[0m \u001b[0mi\u001b[0m\u001b[0;34m.\u001b[0m\u001b[0mndim\u001b[0m \u001b[0;34m>\u001b[0m \u001b[0;36m1\u001b[0m\u001b[0;34m:\u001b[0m\u001b[0;34m\u001b[0m\u001b[0m\n\u001b[0;32m--> 438\u001b[0;31m             \u001b[0;32mraise\u001b[0m \u001b[0mIndexError\u001b[0m\u001b[0;34m(\u001b[0m\u001b[0;34m'invalid index shape'\u001b[0m\u001b[0;34m)\u001b[0m\u001b[0;34m\u001b[0m\u001b[0m\n\u001b[0m\u001b[1;32m    439\u001b[0m         \u001b[0;32mreturn\u001b[0m \u001b[0mi\u001b[0m\u001b[0;34m.\u001b[0m\u001b[0mnonzero\u001b[0m\u001b[0;34m(\u001b[0m\u001b[0;34m)\u001b[0m\u001b[0;34m[\u001b[0m\u001b[0;36m0\u001b[0m\u001b[0;34m]\u001b[0m\u001b[0;34m\u001b[0m\u001b[0m\n\u001b[1;32m    440\u001b[0m \u001b[0;34m\u001b[0m\u001b[0m\n",
      "\u001b[0;31mIndexError\u001b[0m: invalid index shape"
     ]
    }
   ],
   "source": [
    "from __future__ import print_function\n",
    "from scipy.io import loadmat\n",
    "import numpy as np\n",
    "\n",
    "def estimate_naive_bayes_classifier(X,Y,yn):\n",
    "    '''divide X into yn classes'''\n",
    "    list_x = []\n",
    "    for i in range(1,yn+1):\n",
    "        idx = [idx for idx, elem in enumerate(Y) if elem == i]\n",
    "        list_x.append(X[idx,:])\n",
    "\n",
    "    '''count mu and pi'''\n",
    "    n,d = X.shape\n",
    "    mu = np.zeros((yn,d))\n",
    "    pi = np.zeros((yn,1))\n",
    "\n",
    "    for i in range(0,yn):\n",
    "        darray = list_x[i].toarray()\n",
    "        sumx = np.sum(darray, axis = 0)\n",
    "        piy = darray.shape[0]\n",
    "        mu[i,:] = np.divide((1+sumx),(2+piy))\n",
    "        pi[i,0] = np.divide(float(piy),float(yn))\n",
    "\n",
    "    return (mu,pi)\n",
    "\n",
    "\n",
    "def predict(params,X,yn):\n",
    "    mu = params[0]\n",
    "    pi = params[1]\n",
    "\n",
    "    (n,d) = X.shape\n",
    "    pred_matrix = np.zeros((n,yn))\n",
    "   \n",
    "    #count 1-X, as X is sparse matrix\n",
    "    data_X = np.tile([1],(n,d)) - X\n",
    "    pred_matrix = np.log(mu)*X.T + np.log(1 - mu)*data_X.T\n",
    "    pred_mt = np.zeros((yn,n))\n",
    "    for i in range(yn):\n",
    "        pred_mt[i,:] = np.log(pi[i,0]) + pred_matrix[i,:]\n",
    "\n",
    "    pred = np.zeros((n,1))\n",
    "    pred[:,0] = np.argmax(pred_mt,axis=0)\n",
    "    pred = pred + 1\n",
    "    \n",
    "    return pred\n",
    "\n",
    "\n",
    "def load_data():\n",
    "    return loadmat('news.mat')\n",
    "\n",
    "\n",
    "if __name__ == '__main__':\n",
    "    news = load_data()\n",
    "\n",
    "    # 20-way classification problem\n",
    "\n",
    "    data = news['data']\n",
    "    labels = news['labels']\n",
    "    testdata = news['testdata']\n",
    "    testlabels = news['testlabels']\n",
    "    params = estimate_naive_bayes_classifier(data,labels,20)\n",
    "    pred = predict(params,data,20) # predictions on training data\n",
    "    testpred = predict(params,testdata,20) # predictions on test data\n",
    "\n",
    "    print('20 classes: training error rate: %g' % np.mean(pred != labels))\n",
    "    print('20 classes: test error rate: %g' % np.mean(testpred != testlabels))\n",
    "    \n",
    "    indices = (labels==1) | (labels==16) | (labels==20) | (labels==17) | (labels==18) | (labels==19)\n",
    "    data2 = data[indices,:]\n",
    "    labels2 = labels[indices]\n",
    "    labels2[(labels2==1) | (labels2==16) | (labels2==20)] = 0\n",
    "    labels2[(labels2==17) | (labels2==18) | (labels2==19)] = 1\n",
    "    testindices = (testlabels==1) | (testlabels==16) | (testlabels==20) | (testlabels==17) | (testlabels==18) | (testlabels==19)\n",
    "    testdata2 = testdata[testindices,:]\n",
    "    testlabels2 = testlabels[testindices]\n",
    "    testlabels2[(testlabels2==1) | (testlabels2==16) | (testlabels2==20)] = 0\n",
    "    testlabels2[(testlabels2==17) | (testlabels2==18) | (testlabels2==19)] = 1\n",
    "\n",
    "    params2 = estimate_naive_bayes_classifier(data2,labels2,2)\n",
    "    pred2 = predict(params2,data2,2) # predictions on training data\n",
    "    testpred2 = predict(params2,testdata2,2) # predictions on test data\n",
    "\n",
    "    print('2 classes: training error rate: %g' % np.mean(pred2 != labels2))\n",
    "    print('2 classes: test error rate: %g' % np.mean(testpred2 != testlabels2))"
   ]
  },
  {
   "cell_type": "code",
   "execution_count": null,
   "metadata": {},
   "outputs": [],
   "source": [
    "from __future__ import print_function\n",
    "from scipy.io import loadmat\n",
    "import numpy as np\n",
    "\n",
    "def estimate_naive_bayes_classifier(X,Y,yn):\n",
    "    '''divide X into yn classes'''\n",
    "    list_x = []\n",
    "    for i in range(0,yn):\n",
    "        idx = [idx for idx, elem in enumerate(Y) if elem == i]\n",
    "        list_x.append(X[idx,:])\n",
    "\n",
    "    '''count mu and pi'''\n",
    "    n,d = X.shape\n",
    "    mu = np.zeros((yn,d))\n",
    "    pi = np.zeros((yn,1))\n",
    "\n",
    "    for i in range(0,yn):\n",
    "        darray = list_x[i]\n",
    "        sumx = np.sum(darray, axis = 0)\n",
    "        piy = darray.shape[0]\n",
    "        mu[i,:] = np.divide((1+sumx),(2+piy))\n",
    "        pi[i,0] = np.divide(float(piy),float(yn))\n",
    "\n",
    "    return (mu,pi)\n",
    "\n",
    "\n",
    "def predict(params,X,yn):\n",
    "    mu = params[0]\n",
    "    pi = params[1]\n",
    "\n",
    "    (n,d) = X.shape\n",
    "    pred_matrix = np.zeros((n,yn))\n",
    "   \n",
    "    #count 1-X, as X is sparse matrix\n",
    "    data_X = np.tile([1],(n,d)) - X\n",
    "    pred_matrix = np.log(mu)*X.T + np.log(1 - mu)*data_X.T\n",
    "    pred_mt = np.zeros((yn,n))\n",
    "    for i in range(yn):\n",
    "        pred_mt[i,:] = np.log(pi[i,0]) + pred_matrix[i,:]\n",
    "\n",
    "    pred = np.zeros((n,1))\n",
    "    pred[:,0] = np.argmax(pred_mt,axis=0)\n",
    "    pred = pred + 1\n",
    "    \n",
    "    return pred\n",
    "\n",
    "\n",
    "def load_data():\n",
    "    return loadmat('news.mat')\n",
    "\n",
    "\n",
    "if __name__ == '__main__':\n",
    "    news = load_data()\n",
    "\n",
    "    # 20-way classification problem\n",
    "\n",
    "    data = news['data']\n",
    "    labels = news['labels']\n",
    "    testdata = news['testdata']\n",
    "    testlabels = news['testlabels']\n",
    "#     params = estimate_naive_bayes_classifier(data,labels,20)\n",
    "#     pred = predict(params,data,20) # predictions on training data\n",
    "#     testpred = predict(params,testdata,20) # predictions on test data\n",
    "\n",
    "#     print('20 classes: training error rate: %g' % np.mean(pred != labels))\n",
    "#     print('20 classes: test error rate: %g' % np.mean(testpred != testlabels))\n",
    "    \n",
    "    indices = (labels==1) | (labels==16) | (labels==20) | (labels==17) | (labels==18) | (labels==19)\n",
    "    data2 = data[indices,:]\n",
    "    #data2 =  data[np.where((labels == 1) | (labels==16) | (labels==20) | (labels==17) | (labels==18) | (labels==19))[0]]\n",
    "    \n",
    "    labels2 = labels[indices]\n",
    "    labels2[(labels2==1) | (labels2==16) | (labels2==20)] = 0\n",
    "    labels2[(labels2==17) | (labels2==18) | (labels2==19)] = 1\n",
    "    testindices = (testlabels==1) | (testlabels==16) | (testlabels==20) | (testlabels==17) | (testlabels==18) | (testlabels==19)\n",
    "    \n",
    "    testdata2 = data[testindices,:]\n",
    "    #testdata2 = testdata[np.where((testlabels==1) | (testlabels==16) | (testlabels==20) | (testlabels==17) | (testlabels==18) | (testlabels==19))]\n",
    "    testlabels2 = testlabels[testindices]\n",
    "    testlabels2[(testlabels2==1) | (testlabels2==16) | (testlabels2==20)] = 0\n",
    "    testlabels2[(testlabels2==17) | (testlabels2==18) | (testlabels2==19)] = 1\n",
    "\n",
    "    params2 = estimate_naive_bayes_classifier(data2,labels2,2)\n",
    "    pred2 = predict(params2,data2,2) # predictions on training data\n",
    "    testpred2 = predict(params2,testdata2,2) # predictions on test data\n",
    "\n",
    "    print('2 classes: training error rate: %g' % np.mean(pred2 != labels2))\n",
    "    print('2 classes: test error rate: %g' % np.mean(testpred2 != testlabels2))"
   ]
  },
  {
   "cell_type": "code",
   "execution_count": 2,
   "metadata": {},
   "outputs": [
    {
     "name": "stdout",
     "output_type": "stream",
     "text": [
      "2 classes: training error rate: 0.72619\n",
      "2 classes: test error rate: 0.700095\n"
     ]
    }
   ],
   "source": [
    "from __future__ import print_function\n",
    "from scipy.io import loadmat\n",
    "import numpy as np\n",
    "\n",
    "def estimate_naive_bayes_classifier(X,Y):\n",
    "    '''divide X into 2 classes'''\n",
    "    list_x = []\n",
    "    for i in range(0,2):\n",
    "        idx = [idx for idx, elem in enumerate(Y) if elem == i]\n",
    "        list_x.append(X[idx,:])\n",
    "\n",
    "    '''count mu and pi'''\n",
    "    n,d = X.shape\n",
    "    mu = np.zeros((2,d))\n",
    "    pi = np.zeros((2,1))\n",
    "\n",
    "    for i in range(0,2):\n",
    "        darray = list_x[i].toarray()\n",
    "        sumx = np.sum(darray, axis = 0)\n",
    "        piy = darray.shape[0]\n",
    "        mu[i,:] = np.divide((1+sumx),(2+piy))\n",
    "        pi[i,0] = np.divide(float(piy),float(2))\n",
    "\n",
    "    return (mu,pi)\n",
    "\n",
    "\n",
    "def predict(params,X):\n",
    "    mu = params[0]\n",
    "    pi = params[1]\n",
    "\n",
    "    (n,d) = X.shape\n",
    "    pred_matrix = np.zeros((n,2))\n",
    "   \n",
    "    #count 1-X, as X is sparse matrix\n",
    "    data_X = np.tile([1],(n,d)) - X\n",
    "    pred_matrix = np.log(mu)*X.T + np.log(1 - mu)*data_X.T\n",
    "    pred_mt = np.zeros((2,n))\n",
    "    for i in range(2):\n",
    "        pred_mt[i,:] = np.log(pi[i,0]) + pred_matrix[i,:]\n",
    "\n",
    "    pred = np.zeros((n,1))\n",
    "    pred[:,0] = np.argmax(pred_mt,axis=0)\n",
    "    pred = pred + 1\n",
    "    \n",
    "    return pred\n",
    "\n",
    "\n",
    "\n",
    "def load_data():\n",
    "    return loadmat('news.mat')\n",
    "\n",
    "if __name__ == '__main__':\n",
    "    news = load_data()\n",
    "\n",
    "    # 20-way classification problem\n",
    "\n",
    "    data = news['data']\n",
    "    labels = news['labels'][:,0]\n",
    "    testdata = news['testdata']\n",
    "    testlabels = news['testlabels'][:,0]\n",
    "\n",
    "    params = estimate_naive_bayes_classifier(data,labels)\n",
    "    pred = predict(params,data) # predictions on training data\n",
    "    testpred = predict(params,testdata) # predictions on test data\n",
    "\n",
    "    print('20 classes: training error rate: %g' % np.mean(pred != labels))\n",
    "    print('20 classes: test error rate: %g' % np.mean(testpred != testlabels))\n",
    "    # binary classification problem\n",
    "\n",
    "#     indices = (labels==1) | (labels==16) | (labels==20) | (labels==17) | (labels==18) | (labels==19)\n",
    "#     data2 = data[indices,:]\n",
    "#     labels2 = labels[indices]\n",
    "#     labels2[(labels2==1) | (labels2==16) | (labels2==20)] = 0\n",
    "#     labels2[(labels2==17) | (labels2==18) | (labels2==19)] = 1\n",
    "#     testindices = (testlabels==1) | (testlabels==16) | (testlabels==20) | (testlabels==17) | (testlabels==18) | (testlabels==19)\n",
    "#     testdata2 = testdata[testindices,:]\n",
    "#     testlabels2 = testlabels[testindices]\n",
    "#     testlabels2[(testlabels2==1) | (testlabels2==16) | (testlabels2==20)] = 0\n",
    "#     testlabels2[(testlabels2==17) | (testlabels2==18) | (testlabels2==19)] = 1\n",
    "\n",
    "#     params2 = estimate_naive_bayes_classifier(data2,labels2)\n",
    "#     pred2 = predict(params2,data2) # predictions on training data\n",
    "#     testpred2 = predict(params2,testdata2) # predictions on test data\n",
    "\n",
    "#     print('2 classes: training error rate: %g' % np.mean(pred2 != labels2))\n",
    "#     print('2 classes: test error rate: %g' % np.mean(testpred2 != testlabels2))"
   ]
  },
  {
   "cell_type": "code",
   "execution_count": 1,
   "metadata": {},
   "outputs": [
    {
     "name": "stdout",
     "output_type": "stream",
     "text": [
      "20 classes: training error rate: 0.948825\n",
      "20 classes: test error rate: 0.948556\n"
     ]
    },
    {
     "name": "stderr",
     "output_type": "stream",
     "text": [
      "/anaconda3/lib/python3.6/site-packages/ipykernel_launcher.py:41: RuntimeWarning: divide by zero encountered in log\n"
     ]
    },
    {
     "name": "stdout",
     "output_type": "stream",
     "text": [
      "2 classes: training error rate: 0.480515\n",
      "2 classes: test error rate: 0.479425\n"
     ]
    }
   ],
   "source": [
    "#!/usr/bin/env python\n",
    "\n",
    "from __future__ import print_function\n",
    "from scipy.io import loadmat\n",
    "import numpy as np\n",
    "\n",
    "def estimate_naive_bayes_classifier(X,Y):\n",
    "    '''divide X into 20 classes'''\n",
    "    list_x = []\n",
    "    for i in range(1,21):\n",
    "        idx = [idx for idx, elem in enumerate(Y) if elem == i]\n",
    "        list_x.append(X[idx,:])\n",
    "\n",
    "    '''count mu and pi'''\n",
    "    n,d = X.shape\n",
    "    mu = np.zeros((20,d))\n",
    "    pi = np.zeros((20,1))\n",
    "\n",
    "    for i in range(0,20):\n",
    "        darray = list_x[i].toarray()\n",
    "        sumx = np.sum(darray, axis = 0)\n",
    "        piy = darray.shape[0]\n",
    "        mu[i,:] = np.divide((1+sumx),(2+piy))\n",
    "        pi[i,0] = np.divide(float(piy),float(20))\n",
    "\n",
    "    return (mu,pi)\n",
    "\n",
    "\n",
    "def predict(params,X):\n",
    "    mu = params[0]\n",
    "    pi = params[1]\n",
    "\n",
    "    (n,d) = X.shape\n",
    "    pred_matrix = np.zeros((n,20))\n",
    "   \n",
    "    #count 1-X, as X is sparse matrix\n",
    "    data_X = np.tile([1],(n,d)) - X\n",
    "    pred_matrix = np.log(mu)*X.T + np.log(1 - mu)*data_X.T\n",
    "    pred_mt = np.zeros((20,n))\n",
    "    for i in range(20):\n",
    "        pred_mt[i,:] = np.log(pi[i,0]) + pred_matrix[i,:]\n",
    "\n",
    "    pred = np.zeros((n,1))\n",
    "    pred[:,0] = np.argmax(pred_mt,axis=0)\n",
    "    pred = pred + 1\n",
    "    \n",
    "    return pred\n",
    "\n",
    "\n",
    "def print_top_words(params,vocab):\n",
    "    raise Exception(\"IMPLEMENT ME\")\n",
    "\n",
    "def load_data():\n",
    "    return loadmat('news.mat')\n",
    "\n",
    "\n",
    "if __name__ == '__main__':\n",
    "    news = load_data()\n",
    "\n",
    "    # 20-way classification problem\n",
    "\n",
    "    data = news['data']\n",
    "    labels = news['labels'][:,0]\n",
    "    testdata = news['testdata']\n",
    "    testlabels = news['testlabels'][:,0]\n",
    "\n",
    "    params = estimate_naive_bayes_classifier(data,labels)\n",
    "    pred = predict(params,data) # predictions on training data\n",
    "    testpred = predict(params,testdata) # predictions on test data\n",
    "\n",
    "    print('20 classes: training error rate: %g' % np.mean(pred != labels))\n",
    "    print('20 classes: test error rate: %g' % np.mean(testpred != testlabels))\n",
    "\n",
    "    # binary classification problem\n",
    "\n",
    "    indices = (labels==1) | (labels==16) | (labels==20) | (labels==17) | (labels==18) | (labels==19)\n",
    "    data2 = data[indices,:]\n",
    "    labels2 = labels[indices]\n",
    "    labels2[(labels2==1) | (labels2==16) | (labels2==20)] = 0\n",
    "    labels2[(labels2==17) | (labels2==18) | (labels2==19)] = 1\n",
    "    testindices = (testlabels==1) | (testlabels==16) | (testlabels==20) | (testlabels==17) | (testlabels==18) | (testlabels==19)\n",
    "    testdata2 = testdata[testindices,:]\n",
    "    testlabels2 = testlabels[testindices]\n",
    "    testlabels2[(testlabels2==1) | (testlabels2==16) | (testlabels2==20)] = 0\n",
    "    testlabels2[(testlabels2==17) | (testlabels2==18) | (testlabels2==19)] = 1\n",
    "\n",
    "    params2 = estimate_naive_bayes_classifier(data2,labels2)\n",
    "    pred2 = predict(params2,data2) # predictions on training data\n",
    "    testpred2 = predict(params2,testdata2) # predictions on test data\n",
    "\n",
    "    print('2 classes: training error rate: %g' % np.mean(pred2 != labels2))\n",
    "    print('2 classes: test error rate: %g' % np.mean(testpred2 != testlabels2))"
   ]
  },
  {
   "cell_type": "code",
   "execution_count": 63,
   "metadata": {
    "scrolled": true
   },
   "outputs": [
    {
     "name": "stdout",
     "output_type": "stream",
     "text": [
      "(11269, 61188)\n",
      "data2  (3028, 61188)\n",
      "labels2,  (3028, 1)\n",
      "mu (2, 61188)\n",
      "pi (2, 1)\n",
      "data_X.T (61188, 3028)\n",
      "data_X (3028, 61188)\n",
      "X.T (61188, 3028)\n",
      "mu (2, 61188)\n",
      "1-mu (2, 61188)\n",
      "np.log(mu)*X.T (2, 3028)\n",
      "np.log(1 - mu)*data_X.T (2, 3028)\n",
      "2 classes: training error rate: 0.0577939\n"
     ]
    }
   ],
   "source": [
    "from __future__ import print_function\n",
    "from scipy.io import loadmat\n",
    "import numpy as np\n",
    "\n",
    "def estimate_naive_bayes_classifier(X,Y,yn):\n",
    "    '''divide X into yn classes'''\n",
    "    list_x = []\n",
    "    for i in range(1,yn+1):\n",
    "        idx = [idx for idx, elem in enumerate(Y) if elem == i]\n",
    "        list_x.append(X[idx,:])\n",
    "\n",
    "    '''count mu and pi'''\n",
    "    n,d = X.shape\n",
    "    mu = np.zeros((yn,d))\n",
    "    pi = np.zeros((yn,1))\n",
    "\n",
    "    for i in range(0,yn):\n",
    "        darray = list_x[i]\n",
    "        sumx = np.sum(darray, axis = 0)\n",
    "        piy = darray.shape[0]\n",
    "        mu[i,:] = np.divide((1+sumx),(2+piy))\n",
    "        pi[i,0] = np.divide(float(piy),float(yn))\n",
    "\n",
    "    return (mu,pi)\n",
    "\n",
    "\n",
    "def predict(params,X,yn):\n",
    "    mu = params[0]\n",
    "    pi = params[1]\n",
    "\n",
    "    (n,d) = X.shape\n",
    "    pred_matrix = np.zeros((n,yn))\n",
    "   \n",
    "    #count 1-X, as X is sparse matrix\n",
    "    data_X = np.tile([1],(n,d)) - X\n",
    "    print(\"data_X.T\",data_X.T.shape)\n",
    "    print(\"data_X\",data_X.shape)\n",
    "    print(\"X.T\",X.T.shape)\n",
    "    print(\"mu\",np.log(mu).shape)\n",
    "    print(\"1-mu\",np.log(1-mu).shape)\n",
    "    print(\"np.log(mu)*X.T\",np.matmul(np.log(mu),X.T).shape)\n",
    "    print(\"np.log(1 - mu)*data_X.T\",(np.matmul(np.log(1 - mu),data_X.T)).shape)\n",
    "    pred_matrix = np.matmul(np.log(mu),X.T) + np.matmul(np.log(1 - mu),data_X.T)\n",
    "    pred_mt = np.zeros((yn,n))\n",
    "    for i in range(yn):\n",
    "        pred_mt[i,:] = np.log(pi[i,0]) + pred_matrix[i,:]\n",
    "\n",
    "    pred = np.zeros((n,1))\n",
    "    pred[:,0] = np.argmax(pred_mt,axis=0)\n",
    "    pred = pred + 1\n",
    "    \n",
    "    return pred\n",
    "\n",
    "\n",
    "def load_data():\n",
    "    return loadmat('news.mat')\n",
    "\n",
    "\n",
    "if __name__ == '__main__':\n",
    "    news = load_data()\n",
    "\n",
    "    # 20-way classification problem\n",
    "\n",
    "    data = news['data']\n",
    "    labels = news['labels']\n",
    "    testdata = news['testdata']\n",
    "    testlabels = news['testlabels']\n",
    "    \n",
    "    #print(type(labels))\n",
    "    #print(labels[0:5])\n",
    "    #print(type(data))\n",
    "    data = data.toarray()\n",
    "    print(data.shape)\n",
    "    \n",
    "    \n",
    "    #params = estimate_naive_bayes_classifier(data,labels,20)\n",
    "    #pred = predict(params,data,20) # predictions on training data\n",
    "    #testpred = predict(params,testdata,20) # predictions on test data\n",
    "\n",
    "    #print('20 classes: training error rate: %g' % np.mean(pred != labels))\n",
    "    #print('20 classes: test error rate: %g' % np.mean(testpred != testlabels))\n",
    "    \n",
    "    indices = (labels==1) | (labels==16) | (labels==20) | (labels==17) | (labels==18) | (labels==19)\n",
    "#     data2 =  data[np.where((labels == 1) | (labels==16) | (labels==20) | (labels==17) | (labels==18) | (labels==19))[0]]\n",
    "#     labels2 = labels[np.where((labels==1) | (labels==16) | (labels==20) | (labels==17) | (labels==18) | (labels==19))]\n",
    "\n",
    "#     labels2[(labels2==1) | (labels2==16) | (labels2==20)] = 1\n",
    "#     labels2[(labels2==17) | (labels2==18) | (labels2==19)] = 2\n",
    "#     params2 = estimate_naive_bayes_classifier(data2,labels2,2)\n",
    "#     pred2 = predict(params2,data2,2) # predictions on training data\n",
    "\n",
    "\n",
    "#     print('2 classes: training error rate: %g' % np.mean(pred2 != labels2))\n",
    "    #print(indices.shape)\n",
    "    indices = np.reshape(indices, 11269)\n",
    "    \n",
    "    data2 = data[indices,:]\n",
    "    print(\"data2 \", data2.shape)\n",
    "    labels2 = labels[indices]\n",
    "    labels2[(labels2==1) | (labels2==16) | (labels2==20)] = 1\n",
    "    labels2[(labels2==17) | (labels2==18) | (labels2==19)] = 2\n",
    "    print(\"labels2, \", labels2.shape)\n",
    "#     testindices = (testlabels==1) | (testlabels==16) | (testlabels==20) | (testlabels==17) | (testlabels==18) | (testlabels==19)\n",
    "#     testdata2 = testdata[testindices]\n",
    "#     testlabels2 = testlabels[testindices]\n",
    "#     testlabels2[(testlabels2==1) | (testlabels2==16) | (testlabels2==20)] = 1\n",
    "#     testlabels2[(testlabels2==17) | (testlabels2==18) | (testlabels2==19)] = 2\n",
    "\n",
    "    params2 = estimate_naive_bayes_classifier(data2,labels2,2)\n",
    "    print(\"mu\",params2[0].shape)\n",
    "    print(\"pi\",params2[1].shape)\n",
    "    pred2 = predict(params2,data2,2) # predictions on training data\n",
    "    #testpred2 = predict(params2,testdata2,2) # predictions on test data\n",
    "    print('2 classes: training error rate: %g' % np.mean(pred2 != labels2))\n",
    "#     print('2 classes: test error rate: %g' % np.mean(testpred2 != testlabels2))"
   ]
  },
  {
   "cell_type": "code",
   "execution_count": 17,
   "metadata": {},
   "outputs": [
    {
     "name": "stdout",
     "output_type": "stream",
     "text": [
      "(11269, 61188)\n",
      "(11269, 1)\n",
      "(3028, 61188)\n",
      "(3028,)\n"
     ]
    }
   ],
   "source": [
    "print(data.shape)\n",
    "print(labels.shape)\n",
    "print(data2.shape)\n",
    "print(labels2.shape)"
   ]
  },
  {
   "cell_type": "code",
   "execution_count": 32,
   "metadata": {},
   "outputs": [
    {
     "ename": "IndexError",
     "evalue": "too many indices for array",
     "output_type": "error",
     "traceback": [
      "\u001b[0;31m---------------------------------------------------------------------------\u001b[0m",
      "\u001b[0;31mIndexError\u001b[0m                                Traceback (most recent call last)",
      "\u001b[0;32m<ipython-input-32-9a0e7aa419f2>\u001b[0m in \u001b[0;36m<module>\u001b[0;34m()\u001b[0m\n\u001b[1;32m      3\u001b[0m \u001b[0mindices\u001b[0m \u001b[0;34m=\u001b[0m \u001b[0;34m(\u001b[0m\u001b[0mlabels\u001b[0m \u001b[0;34m==\u001b[0m \u001b[0;36m1\u001b[0m\u001b[0;34m)\u001b[0m\u001b[0;34m\u001b[0m\u001b[0m\n\u001b[1;32m      4\u001b[0m \u001b[0mlabels2\u001b[0m \u001b[0;34m=\u001b[0m \u001b[0mlabels\u001b[0m\u001b[0;34m[\u001b[0m\u001b[0mindices\u001b[0m\u001b[0;34m]\u001b[0m\u001b[0;34m\u001b[0m\u001b[0m\n\u001b[0;32m----> 5\u001b[0;31m \u001b[0mdata2\u001b[0m \u001b[0;34m=\u001b[0m \u001b[0mdata\u001b[0m\u001b[0;34m[\u001b[0m\u001b[0mindices\u001b[0m\u001b[0;34m,\u001b[0m\u001b[0;34m:\u001b[0m\u001b[0;34m]\u001b[0m\u001b[0;34m\u001b[0m\u001b[0m\n\u001b[0m\u001b[1;32m      6\u001b[0m \u001b[0mprint\u001b[0m\u001b[0;34m(\u001b[0m\u001b[0mindices\u001b[0m\u001b[0;34m)\u001b[0m\u001b[0;34m\u001b[0m\u001b[0m\n\u001b[1;32m      7\u001b[0m \u001b[0mprint\u001b[0m\u001b[0;34m(\u001b[0m\u001b[0mtype\u001b[0m\u001b[0;34m(\u001b[0m\u001b[0mindices\u001b[0m\u001b[0;34m)\u001b[0m\u001b[0;34m)\u001b[0m\u001b[0;34m\u001b[0m\u001b[0m\n",
      "\u001b[0;31mIndexError\u001b[0m: too many indices for array"
     ]
    }
   ],
   "source": [
    "labels = np.asarray([[0],[1],[1],[0]])\n",
    "data = np.asarray([[0,0,0],[1,1,1],[2,2,2],[3,3,3]])\n",
    "indices = (labels == 1)\n",
    "labels2 = labels[indices]\n",
    "data2 = data[indices,:]\n",
    "print(indices)\n",
    "print(type(indices))\n",
    "print(labels2)"
   ]
  },
  {
   "cell_type": "code",
   "execution_count": 75,
   "metadata": {},
   "outputs": [
    {
     "name": "stdout",
     "output_type": "stream",
     "text": [
      "2 classes: training error rate: 0.0577939\n",
      "2 classes: test error rate: 0.131383\n"
     ]
    }
   ],
   "source": [
    "from __future__ import print_function\n",
    "from scipy.io import loadmat\n",
    "import numpy as np\n",
    "\n",
    "def estimate_naive_bayes_classifier(X,Y,yn):\n",
    "    '''divide X into yn classes'''\n",
    "    list_x = []\n",
    "    for i in range(1,yn+1):\n",
    "        idx = [idx for idx, elem in enumerate(Y) if elem == i]\n",
    "        list_x.append(X[idx,:])\n",
    "\n",
    "    '''count mu and pi'''\n",
    "    n,d = X.shape\n",
    "    mu = np.zeros((yn,d))\n",
    "    pi = np.zeros((yn,1))\n",
    "\n",
    "    for i in range(0,yn):\n",
    "        darray = list_x[i]\n",
    "        sumx = np.sum(darray, axis = 0)\n",
    "        piy = darray.shape[0]\n",
    "        mu[i,:] = np.divide((1+sumx),(2+piy))\n",
    "        pi[i,0] = np.divide(float(piy),float(yn))\n",
    "\n",
    "    return (mu,pi)\n",
    "\n",
    "\n",
    "def predict(params,X,yn):\n",
    "    mu = params[0]\n",
    "    pi = params[1]\n",
    "\n",
    "    (n,d) = X.shape\n",
    "    pred_matrix = np.zeros((n,yn))\n",
    "   \n",
    "    #count 1-X, as X is sparse matrix\n",
    "    data_X = np.tile([1],(n,d)) - X\n",
    "    pred_matrix = np.matmul(np.log(mu),X.T) + np.matmul(np.log(1 - mu),data_X.T)\n",
    "    pred_mt = np.zeros((yn,n))\n",
    "    for i in range(yn):\n",
    "        pred_mt[i,:] = np.log(pi[i,0]) + pred_matrix[i,:]\n",
    "\n",
    "    pred = np.zeros((n,1))\n",
    "    pred[:,0] = np.argmax(pred_mt,axis=0)\n",
    "    pred = pred + 1\n",
    "    \n",
    "    return pred\n",
    "\n",
    "\n",
    "def load_data():\n",
    "    return loadmat('news.mat')\n",
    "\n",
    "\n",
    "if __name__ == '__main__':\n",
    "    news = load_data()\n",
    "    # 20-way classification problem\n",
    "\n",
    "    data = news['data']\n",
    "    labels = news['labels']\n",
    "    testdata = news['testdata']\n",
    "    testlabels = news['testlabels']\n",
    "    \n",
    "    data = data.toarray()\n",
    "    testdata = testdata.toarray()\n",
    "#     print(data.shape)\n",
    "#     print(labels.shape)\n",
    "#     print(params.shape)\n",
    "    params = estimate_naive_bayes_classifier(data,labels,20)\n",
    "    pred = predict(params,data,20) # predictions on training data\n",
    "    testpred = predict(params,testdata,20) # predictions on test data\n",
    "\n",
    "    print('20 classes: training error rate: %g' % np.mean(pred != labels))\n",
    "    print('20 classes: test error rate: %g' % np.mean(testpred != testlabels))\n",
    "    \n",
    "    (ntrain,dtrain) = data.shape\n",
    "    (ntest,dtest) = testdata.shape\n",
    "    \n",
    "    # 2 classes\n",
    "    indices = (labels==1) | (labels==16) | (labels==20) | (labels==17) | (labels==18) | (labels==19)  \n",
    "    indices = np.reshape(indices, ntrain)\n",
    "    data2 = data[indices,:]\n",
    "    labels2 = labels[indices]\n",
    "    labels2[(labels2==1) | (labels2==16) | (labels2==20)] = 1\n",
    "    labels2[(labels2==17) | (labels2==18) | (labels2==19)] = 2\n",
    "    \n",
    "    testindices = (testlabels==1) | (testlabels==16) | (testlabels==20) | (testlabels==17) | (testlabels==18) | (testlabels==19)\n",
    "    testindices = np.reshape(testindices, ntest)\n",
    "    testdata2 = testdata[testindices,:]\n",
    "    testlabels2 = testlabels[testindices]\n",
    "    testlabels2[(testlabels2==1) | (testlabels2==16) | (testlabels2==20)] = 1\n",
    "    testlabels2[(testlabels2==17) | (testlabels2==18) | (testlabels2==19)] = 2\n",
    "\n",
    "    params2 = estimate_naive_bayes_classifier(data2,labels2,2)\n",
    "    pred2 = predict(params2,data2,2) # predictions on training data\n",
    "    testpred2 = predict(params2,testdata2,2) # predictions on test data\n",
    "    print('2 classes: training error rate: %g' % np.mean(pred2 != labels2))\n",
    "    print('2 classes: test error rate: %g' % np.mean(testpred2 != testlabels2))"
   ]
  },
  {
   "cell_type": "code",
   "execution_count": 96,
   "metadata": {},
   "outputs": [
    {
     "name": "stdout",
     "output_type": "stream",
     "text": [
      "largest words are ['firearms', 'occupied', 'israelis', 'argic', 'serdar', 'melkonian', 'sahak', 'appressian', 'ohanus', 'villages', 'cramer', 'armenia', 'cpr', 'sdpa', 'palestine', 'optilink', 'handgun', 'firearm', 'budget', 'arabs']\n",
      "smallest words are ['prophet', 'mozumder', 'jesus', 'benedikt', 'ksand', 'alink', 'believers', 'theology', 'scriptures', 'wpd', 'solntze', 'atheist', 'livesey', 'testament', 'revelation', 'teachings', 'clh', 'atheists', 'atheism', 'athos']\n"
     ]
    }
   ],
   "source": [
    "from __future__ import print_function\n",
    "from scipy.io import loadmat\n",
    "import numpy as np\n",
    "\n",
    "def estimate_naive_bayes_classifier(X,Y,yn):\n",
    "    '''divide X into yn classes'''\n",
    "    list_x = []\n",
    "    for i in range(1,yn+1):\n",
    "        idx = [idx for idx, elem in enumerate(Y) if elem == i]\n",
    "        list_x.append(X[idx,:])\n",
    "\n",
    "    '''count mu and pi'''\n",
    "    n,d = X.shape\n",
    "    mu = np.zeros((yn,d))\n",
    "    pi = np.zeros((yn,1))\n",
    "\n",
    "    for i in range(0,yn):\n",
    "        darray = list_x[i]\n",
    "        sumx = np.sum(darray, axis = 0)\n",
    "        piy = darray.shape[0]\n",
    "        mu[i,:] = np.divide((1+sumx),(2+piy))\n",
    "        pi[i,0] = np.divide(float(piy),float(yn))\n",
    "\n",
    "    return (mu,pi)\n",
    "\n",
    "\n",
    "def predict(params,X,yn):\n",
    "    mu = params[0]\n",
    "    pi = params[1]\n",
    "\n",
    "    (n,d) = X.shape\n",
    "    pred_matrix = np.zeros((n,yn))\n",
    "   \n",
    "    #count 1-X, as X is sparse matrix\n",
    "    data_X = np.tile([1],(n,d)) - X\n",
    "    pred_matrix = np.matmul(np.log(mu),X.T) + np.matmul(np.log(1 - mu),data_X.T)\n",
    "    pred_mt = np.zeros((yn,n))\n",
    "    for i in range(yn):\n",
    "        pred_mt[i,:] = np.log(pi[i,0]) + pred_matrix[i,:]\n",
    "\n",
    "    pred = np.zeros((n,1))\n",
    "    pred[:,0] = np.argmax(pred_mt,axis=0)\n",
    "    pred = pred + 1\n",
    "    \n",
    "    return pred\n",
    "\n",
    "\n",
    "\n",
    "def print_top_words(params,vocab):\n",
    "    \n",
    "    mu = params[0]\n",
    "    pi = params[1]\n",
    "    x0 = mu[1,:] * (1 - mu[0,:])\n",
    "    x1 = mu[0,:] * (1 - mu[1,:])\n",
    "    alpha = np.log(x0 / x1)\n",
    "    \n",
    "    d = len(vocab)\n",
    "    alpha_idx = sorted(range(d), key=lambda k: alpha[k])\n",
    "    minnum = alpha_idx[0:20]\n",
    "    maxnum = alpha_idx[-20:]\n",
    "    min_list = []\n",
    "    max_list = []\n",
    "    for i in minnum:\n",
    "        min_list.insert(0,vocab[i])\n",
    "    for i in maxnum:\n",
    "        max_list.insert(0,vocab[i])\n",
    "    print(\"largest words are\",max_list)\n",
    "    print(\"smallest words are\",min_list)\n",
    "\n",
    "    \n",
    "    \n",
    "\n",
    "def load_data():\n",
    "    return loadmat('news.mat')\n",
    "\n",
    "def load_vocab():\n",
    "    with open('news.vocab') as f:\n",
    "        vocab = [ x.strip() for x in f.readlines() ]\n",
    "    return vocab\n",
    "\n",
    "\n",
    "if __name__ == '__main__':\n",
    "    news = load_data()\n",
    "    # 20-way classification problem\n",
    "\n",
    "    data = news['data']\n",
    "    labels = news['labels']\n",
    "    testdata = news['testdata']\n",
    "    testlabels = news['testlabels']\n",
    "    \n",
    "    data = data.toarray()\n",
    "    testdata = testdata.toarray()\n",
    "\n",
    "   \n",
    "    \n",
    "    (ntrain,dtrain) = data.shape\n",
    "    (ntest,dtest) = testdata.shape\n",
    "    \n",
    "    # 2 classes\n",
    "    indices = (labels==1) | (labels==16) | (labels==20) | (labels==17) | (labels==18) | (labels==19)  \n",
    "    indices = np.reshape(indices, ntrain)\n",
    "    data2 = data[indices,:]\n",
    "    labels2 = labels[indices]\n",
    "    labels2[(labels2==1) | (labels2==16) | (labels2==20)] = 1\n",
    "    labels2[(labels2==17) | (labels2==18) | (labels2==19)] = 2\n",
    "    \n",
    "    testindices = (testlabels==1) | (testlabels==16) | (testlabels==20) | (testlabels==17) | (testlabels==18) | (testlabels==19)\n",
    "    testindices = np.reshape(testindices, ntest)\n",
    "    testdata2 = testdata[testindices,:]\n",
    "    testlabels2 = testlabels[testindices]\n",
    "    testlabels2[(testlabels2==1) | (testlabels2==16) | (testlabels2==20)] = 1\n",
    "    testlabels2[(testlabels2==17) | (testlabels2==18) | (testlabels2==19)] = 2\n",
    "\n",
    "    vocab = load_vocab()\n",
    "    print_top_words(params2,vocab)"
   ]
  },
  {
   "cell_type": "code",
   "execution_count": 1,
   "metadata": {},
   "outputs": [
    {
     "name": "stdout",
     "output_type": "stream",
     "text": [
      "20 classes: training error rate: 0.216257\n",
      "20 classes: test error rate: 0.376016\n",
      "2 classes: training error rate: 0.0577939\n",
      "2 classes: test error rate: 0.131383\n",
      "largest words are ['firearms', 'occupied', 'israelis', 'argic', 'serdar', 'melkonian', 'sahak', 'appressian', 'ohanus', 'villages', 'cramer', 'armenia', 'cpr', 'sdpa', 'palestine', 'optilink', 'handgun', 'firearm', 'budget', 'arabs']\n",
      "smallest words are ['prophet', 'mozumder', 'jesus', 'benedikt', 'ksand', 'alink', 'believers', 'theology', 'scriptures', 'wpd', 'solntze', 'atheist', 'livesey', 'testament', 'revelation', 'teachings', 'clh', 'atheists', 'atheism', 'athos']\n"
     ]
    }
   ],
   "source": [
    "from __future__ import print_function\n",
    "from scipy.io import loadmat\n",
    "import numpy as np\n",
    "\n",
    "def estimate_naive_bayes_classifier(X,Y,yn):\n",
    "    '''divide X into yn classes'''\n",
    "    list_x = []\n",
    "    for i in range(1,yn+1):\n",
    "        idx = [idx for idx, elem in enumerate(Y) if elem == i]\n",
    "        list_x.append(X[idx,:])\n",
    "\n",
    "    '''count mu and pi'''\n",
    "    n,d = X.shape\n",
    "    mu = np.zeros((yn,d))\n",
    "    pi = np.zeros((yn,1))\n",
    "\n",
    "    for i in range(0,yn):\n",
    "        darray = list_x[i]\n",
    "        sumx = np.sum(darray, axis = 0)\n",
    "        piy = darray.shape[0]\n",
    "        mu[i,:] = np.divide((1+sumx),(2+piy))\n",
    "        pi[i,0] = np.divide(float(piy),float(yn))\n",
    "\n",
    "    return (mu,pi)\n",
    "\n",
    "\n",
    "def predict(params,X,yn):\n",
    "    mu = params[0]\n",
    "    pi = params[1]\n",
    "\n",
    "    (n,d) = X.shape\n",
    "    pred_matrix = np.zeros((n,yn))\n",
    "   \n",
    "    #count 1-X, as X is sparse matrix\n",
    "    data_X = np.tile([1],(n,d)) - X\n",
    "    pred_matrix = np.matmul(np.log(mu),X.T) + np.matmul(np.log(1 - mu),data_X.T)\n",
    "    pred_mt = np.zeros((yn,n))\n",
    "    for i in range(yn):\n",
    "        pred_mt[i,:] = np.log(pi[i,0]) + pred_matrix[i,:]\n",
    "\n",
    "    pred = np.zeros((n,1))\n",
    "    pred[:,0] = np.argmax(pred_mt,axis=0)\n",
    "    pred = pred + 1\n",
    "    \n",
    "    return pred\n",
    "\n",
    "\n",
    "def print_top_words(params,vocab):\n",
    "    \n",
    "    mu = params[0]\n",
    "    x0 = mu[1,:] * (1 - mu[0,:])\n",
    "    x1 = mu[0,:] * (1 - mu[1,:])\n",
    "    alpha = np.log(x0 / x1)\n",
    "    \n",
    "    d = len(vocab)\n",
    "    alpha_idx = sorted(range(d), key=lambda k: alpha[k])\n",
    "    minnum = alpha_idx[0:20]\n",
    "    maxnum = alpha_idx[-20:]\n",
    "    min_list = []\n",
    "    max_list = []\n",
    "    for i in minnum:\n",
    "        min_list.insert(0,vocab[i])\n",
    "    for i in maxnum:\n",
    "        max_list.insert(0,vocab[i])\n",
    "    print(\"largest words are\",max_list)\n",
    "    print(\"smallest words are\",min_list)\n",
    "\n",
    "\n",
    "\n",
    "\n",
    "def load_data():\n",
    "    return loadmat('news.mat')\n",
    "\n",
    "\n",
    "\n",
    "\n",
    "def load_vocab():\n",
    "    with open('news.vocab') as f:\n",
    "        vocab = [ x.strip() for x in f.readlines() ]\n",
    "    return vocab\n",
    "\n",
    "\n",
    "\n",
    "if __name__ == '__main__':\n",
    "    news = load_data()\n",
    "    # 20-way classification problem\n",
    "\n",
    "    data = news['data']\n",
    "    labels = news['labels']\n",
    "    testdata = news['testdata']\n",
    "    testlabels = news['testlabels']\n",
    "    \n",
    "    data = data.toarray()\n",
    "    testdata = testdata.toarray()\n",
    "#     print(data.shape)\n",
    "#     print(labels.shape)\n",
    "#     print(params.shape)\n",
    "    params = estimate_naive_bayes_classifier(data,labels,20)\n",
    "    pred = predict(params,data,20) # predictions on training data\n",
    "    testpred = predict(params,testdata,20) # predictions on test data\n",
    "\n",
    "    print('20 classes: training error rate: %g' % np.mean(pred != labels))\n",
    "    print('20 classes: test error rate: %g' % np.mean(testpred != testlabels))\n",
    "    \n",
    "    (ntrain,dtrain) = data.shape\n",
    "    (ntest,dtest) = testdata.shape\n",
    "    \n",
    "    # 2 classes\n",
    "    indices = (labels==1) | (labels==16) | (labels==20) | (labels==17) | (labels==18) | (labels==19)  \n",
    "    indices = np.reshape(indices, ntrain)\n",
    "    data2 = data[indices,:]\n",
    "    labels2 = labels[indices]\n",
    "    labels2[(labels2==1) | (labels2==16) | (labels2==20)] = 1\n",
    "    labels2[(labels2==17) | (labels2==18) | (labels2==19)] = 2\n",
    "    \n",
    "    testindices = (testlabels==1) | (testlabels==16) | (testlabels==20) | (testlabels==17) | (testlabels==18) | (testlabels==19)\n",
    "    testindices = np.reshape(testindices, ntest)\n",
    "    testdata2 = testdata[testindices,:]\n",
    "    testlabels2 = testlabels[testindices]\n",
    "    testlabels2[(testlabels2==1) | (testlabels2==16) | (testlabels2==20)] = 1\n",
    "    testlabels2[(testlabels2==17) | (testlabels2==18) | (testlabels2==19)] = 2\n",
    "\n",
    "    params2 = estimate_naive_bayes_classifier(data2,labels2,2)\n",
    "    pred2 = predict(params2,data2,2) # predictions on training data\n",
    "    testpred2 = predict(params2,testdata2,2) # predictions on test data\n",
    "    print('2 classes: training error rate: %g' % np.mean(pred2 != labels2))\n",
    "    print('2 classes: test error rate: %g' % np.mean(testpred2 != testlabels2))\n",
    "\n",
    "    vocab = load_vocab()\n",
    "    print_top_words(params2,vocab)"
   ]
  },
  {
   "cell_type": "code",
   "execution_count": 6,
   "metadata": {},
   "outputs": [
    {
     "name": "stdout",
     "output_type": "stream",
     "text": [
      "1000\t0.11477\t0.00392964\n",
      "2000\t0.08941\t0.0035728\n",
      "4000\t0.06976\t0.00168416\n",
      "8000\t0.0555\t0.001253\n"
     ]
    },
    {
     "data": {
      "image/png": "[encoded data removed]",
      "text/plain": [
       "<Figure size 432x288 with 1 Axes>"
      ]
     },
     "metadata": {},
     "output_type": "display_data"
    }
   ],
   "source": [
    "#!/usr/bin/env python\n",
    "\n",
    "from __future__ import print_function\n",
    "from scipy.io import loadmat\n",
    "from random import sample\n",
    "import numpy as np\n",
    "import matplotlib.pyplot as plt\n",
    "\n",
    "def nn(X,Y,test):\n",
    "\n",
    "    x2 = np.square(X).sum(axis = 1)                                     \n",
    "    xt = np.dot(test,X.T)\n",
    "    t2 = np.transpose(np.square(test).sum(axis = 1)[np.newaxis]) \n",
    "    dist = x2 - 2*xt + t2\n",
    "    preds = Y[np.argmin(dist, axis = 1)]\n",
    "    return preds\n",
    "\n",
    "if __name__ == '__main__':\n",
    "    ocr = loadmat('ocr.mat')\n",
    "    num_trials = 10\n",
    "    mean_error = []\n",
    "    std_err = []\n",
    "    num = [1000,2000,4000,8000]\n",
    "    for n in [ 1000, 2000, 4000, 8000 ]:\n",
    "        test_err = np.zeros(num_trials)\n",
    "        for trial in range(num_trials):\n",
    "            sel = sample(range(len(ocr['data'].astype('float'))),n)\n",
    "            preds = nn(ocr['data'].astype('float')[sel], ocr['labels'][sel], ocr['testdata'].astype('float'))\n",
    "            test_err[trial] = np.mean(preds != ocr['testlabels'])\n",
    "        print(\"%d\\t%g\\t%g\" % (n,np.mean(test_err),np.std(test_err)))\n",
    "        mean_error.append(np.mean(test_err))\n",
    "        std_err.append(np.std(test_err))\n",
    "        \n",
    "    plt.scatter(num,mean_error)\n",
    "    plt.errorbar(num,mean_error,std_err)\n",
    "    plt.title('Learning Curve Plot')\n",
    "    plt.xlabel('n')\n",
    "    plt.ylabel('Error rate')\n",
    "    plt.show()"
   ]
  },
  {
   "cell_type": "code",
   "execution_count": null,
   "metadata": {},
   "outputs": [],
   "source": []
  }
 ],
 "metadata": {
  "kernelspec": {
   "display_name": "Python 3",
   "language": "python",
   "name": "python3"
  },
  "language_info": {
   "codemirror_mode": {
    "name": "ipython",
    "version": 3
   },
   "file_extension": ".py",
   "mimetype": "text/x-python",
   "name": "python",
   "nbconvert_exporter": "python",
   "pygments_lexer": "ipython3",
   "version": "3.6.5"
  }
 },
 "nbformat": 4,
 "nbformat_minor": 2
}
